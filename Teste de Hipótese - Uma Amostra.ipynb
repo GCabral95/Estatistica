{
 "cells": [
  {
   "cell_type": "code",
   "execution_count": 1,
   "metadata": {},
   "outputs": [],
   "source": [
    "import pandas as pd\n",
    "import numpy as np\n",
    "import math\n",
    "import statistics as st\n",
    "import matplotlib.pyplot as plt\n",
    "from scipy import stats"
   ]
  },
  {
   "cell_type": "markdown",
   "metadata": {},
   "source": [
    "# Shapiro-Wilk"
   ]
  },
  {
   "cell_type": "markdown",
   "metadata": {},
   "source": [
    "* Teste para verificar se a amostra é oriunda de uma população com distribuição normal\n",
    "    * Utilizável para amostra com N entre 4 e 2000"
   ]
  },
  {
   "cell_type": "code",
   "execution_count": 2,
   "metadata": {},
   "outputs": [],
   "source": [
    "amostra = [32,28,34,32,31,28,30,31,39,31,33,32,32,33,31,27,33,27,31,30,26,38,\n",
    "           33,33,32,30,31,31,30,31,32,31,32,29,29,31,29,32,30,29,32,29,32,30]"
   ]
  },
  {
   "cell_type": "code",
   "execution_count": 3,
   "metadata": {},
   "outputs": [
    {
     "data": {
      "image/png": "[encoded data removed]",
      "text/plain": [
       "<Figure size 432x288 with 1 Axes>"
      ]
     },
     "metadata": {
      "needs_background": "light"
     },
     "output_type": "display_data"
    }
   ],
   "source": [
    "plt.hist(amostra,5)\n",
    "plt.show() # Supondo a amostra acima, seu histograma seria o disposto abaixo"
   ]
  },
  {
   "cell_type": "markdown",
   "metadata": {},
   "source": [
    "* Hipótese Nula: A amostra provém de uma população Normal\n",
    "* Hipótese Alternativa: A amostra não provém de uma população Normal"
   ]
  },
  {
   "cell_type": "code",
   "execution_count": 4,
   "metadata": {},
   "outputs": [],
   "source": [
    "statistic ,pvalue = stats.shapiro(amostra)"
   ]
  },
  {
   "cell_type": "markdown",
   "metadata": {},
   "source": [
    "* Como p-valor < 0,05, rejeita-se a hipótese nula, decide-se rejeitar a hipotese nula, ou seja, a amostra não é oriunda de uma distribuição normal "
   ]
  },
  {
   "cell_type": "code",
   "execution_count": 5,
   "metadata": {},
   "outputs": [
    {
     "name": "stdout",
     "output_type": "stream",
     "text": [
      "0.9091466665267944\n",
      "0.0021047501359134912\n"
     ]
    }
   ],
   "source": [
    "print(statistic)\n",
    "print(pvalue)"
   ]
  },
  {
   "cell_type": "code",
   "execution_count": 6,
   "metadata": {},
   "outputs": [],
   "source": [
    "amostra = [15,16,18,19,20,22,23,23,24,24,25,28,28,29,30,30,31,32,32,34,36,36,39,46]"
   ]
  },
  {
   "cell_type": "code",
   "execution_count": 7,
   "metadata": {},
   "outputs": [
    {
     "data": {
      "image/png": "[encoded data removed]",
      "text/plain": [
       "<Figure size 432x288 with 1 Axes>"
      ]
     },
     "metadata": {
      "needs_background": "light"
     },
     "output_type": "display_data"
    }
   ],
   "source": [
    "plt.hist(amostra,5)\n",
    "plt.show() #Histograma desta segunda amostra"
   ]
  },
  {
   "cell_type": "code",
   "execution_count": 8,
   "metadata": {},
   "outputs": [],
   "source": [
    "statistic ,pvalue = stats.shapiro(amostra)"
   ]
  },
  {
   "cell_type": "markdown",
   "metadata": {},
   "source": [
    "* Como p-valor > 0,05, não rejeita-se a hipótese nula, assim, a amostra é oriunda de uma distribuição normal "
   ]
  },
  {
   "cell_type": "code",
   "execution_count": 9,
   "metadata": {},
   "outputs": [
    {
     "name": "stdout",
     "output_type": "stream",
     "text": [
      "0.978008508682251\n",
      "0.8565154075622559\n"
     ]
    }
   ],
   "source": [
    "print(statistic)\n",
    "print(pvalue)"
   ]
  },
  {
   "cell_type": "code",
   "execution_count": null,
   "metadata": {},
   "outputs": [],
   "source": []
  },
  {
   "cell_type": "markdown",
   "metadata": {},
   "source": [
    "# Teste Z"
   ]
  },
  {
   "cell_type": "markdown",
   "metadata": {},
   "source": [
    "* Utiliza-se quando a amostra é extraída de uma população com distribuição normal com variância conhecida ou, caso a distribuição não seja conhecida, é aplicada com amostra N>30\n",
    "    * Inferência: Emprega-se para verificar se a diferença entre a média da amostra e da população é grande o suficiente para ser significante."
   ]
  },
  {
   "cell_type": "code",
   "execution_count": 10,
   "metadata": {},
   "outputs": [],
   "source": [
    "from statsmodels.stats import weightstats as stests"
   ]
  },
  {
   "cell_type": "code",
   "execution_count": 11,
   "metadata": {},
   "outputs": [],
   "source": [
    "amostra = [32,28,34,32,31,28,30,31,39,31,33,32,32,33,31,27,33,27,31,30,26,38,\n",
    "           33,33,32,30,31,31,30,31,32,31,32,29,29,31,29,32,30,29,32,29,32,30]"
   ]
  },
  {
   "cell_type": "code",
   "execution_count": 12,
   "metadata": {
    "scrolled": true
   },
   "outputs": [
    {
     "data": {
      "text/plain": [
       "31.068181818181817"
      ]
     },
     "execution_count": 12,
     "metadata": {},
     "output_type": "execute_result"
    }
   ],
   "source": [
    "sum(amostra)/len(amostra) #Média da amostra é 31,06."
   ]
  },
  {
   "cell_type": "markdown",
   "metadata": {},
   "source": [
    "* Hipótese Nula: Média = 30\n",
    "* Hipótese Alternativa: Média <> 30 (teste bicaudal)"
   ]
  },
  {
   "cell_type": "code",
   "execution_count": 13,
   "metadata": {},
   "outputs": [],
   "source": [
    "ztest ,pval = stests.ztest(amostra, x2=None, value=30) "
   ]
  },
  {
   "cell_type": "markdown",
   "metadata": {},
   "source": [
    "* Com o p-valor <  0,05, decide-se rejeitar a hipotese nula, ou seja, a média é diferente de 30"
   ]
  },
  {
   "cell_type": "code",
   "execution_count": 14,
   "metadata": {},
   "outputs": [
    {
     "name": "stdout",
     "output_type": "stream",
     "text": [
      "2.9222752315608385\n",
      "0.003474843256018053\n"
     ]
    }
   ],
   "source": [
    "print(ztest)\n",
    "print(pval)"
   ]
  },
  {
   "cell_type": "markdown",
   "metadata": {},
   "source": [
    "* Hipótese Nula: Média <= 30\n",
    "* Hipótese Alternativa: Média > 30 (teste unicaudal)"
   ]
  },
  {
   "cell_type": "code",
   "execution_count": 15,
   "metadata": {},
   "outputs": [
    {
     "name": "stdout",
     "output_type": "stream",
     "text": [
      "2.9222752315608385\n",
      "0.0017374216280090266\n"
     ]
    }
   ],
   "source": [
    "ztest ,pval = stests.ztest(amostra, x2=None, value=30,alternative = 'larger')\n",
    "print(ztest)\n",
    "print(pval)"
   ]
  },
  {
   "cell_type": "markdown",
   "metadata": {},
   "source": [
    "* Hipótese Nula: Média >= 30\n",
    "* Hipótese Alternativa: Média < 30 (teste unicaudal)"
   ]
  },
  {
   "cell_type": "code",
   "execution_count": 16,
   "metadata": {},
   "outputs": [
    {
     "name": "stdout",
     "output_type": "stream",
     "text": [
      "2.9222752315608385\n",
      "0.998262578371991\n"
     ]
    }
   ],
   "source": [
    "ztest ,pval = stests.ztest(amostra, x2=None, value=30,alternative = 'smaller')\n",
    "print(ztest)\n",
    "print(pval)"
   ]
  },
  {
   "cell_type": "markdown",
   "metadata": {},
   "source": [
    "* Intervalo de Confiança para a Média"
   ]
  },
  {
   "cell_type": "code",
   "execution_count": 17,
   "metadata": {},
   "outputs": [],
   "source": [
    "amostra = [32,28,34,32,31,28,30,31,39,31,33,32,32,33,31,27,33,27,31,30,26,38,\n",
    "           33,33,32,30,31,31,30,31,32,31,32,29,29,31,29,32,30,29,32,29,32,30]"
   ]
  },
  {
   "cell_type": "code",
   "execution_count": 18,
   "metadata": {},
   "outputs": [],
   "source": [
    "raiz_n = math.sqrt(len(amostra))\n",
    "media_amostral = sum(amostra)/len(amostra)\n",
    "desv_pad_amostral = st.stdev(amostra)\n",
    "Z_y = stats.norm.ppf(0.975) #Valor de Z para intervalo de confiança com 95% - bicaudal"
   ]
  },
  {
   "cell_type": "code",
   "execution_count": 19,
   "metadata": {},
   "outputs": [],
   "source": [
    "Limite_inferior = media_amostral - (Z_y*(desv_pad_amostral/raiz_n)) #formula para calculo dos limites do intervalo\n",
    "Limite_superior = media_amostral + (Z_y*(desv_pad_amostral/raiz_n))"
   ]
  },
  {
   "cell_type": "code",
   "execution_count": 20,
   "metadata": {},
   "outputs": [
    {
     "name": "stdout",
     "output_type": "stream",
     "text": [
      "30.351754470762305\n",
      "31.784609165601328\n"
     ]
    }
   ],
   "source": [
    "print(Limite_inferior)\n",
    "print(Limite_superior)"
   ]
  },
  {
   "cell_type": "code",
   "execution_count": null,
   "metadata": {},
   "outputs": [],
   "source": []
  },
  {
   "cell_type": "markdown",
   "metadata": {},
   "source": [
    "# Teste T"
   ]
  },
  {
   "cell_type": "markdown",
   "metadata": {},
   "source": [
    "* Igualmente ao teste Z, é empregado para testar hipóteses acerca da estatística amostral\n",
    "    * Utilizável quando não conhecemos o desvio-padrão e amostra N<30\n",
    "    * Distribuição da amostra deve ser aproximadamente uma normal"
   ]
  },
  {
   "cell_type": "code",
   "execution_count": 21,
   "metadata": {},
   "outputs": [],
   "source": [
    "amostra = [32,28,34,32,31,28,30,31,39,31,33,32,32,33,31,27,33,27,31,30,26,38,33,33,32]"
   ]
  },
  {
   "cell_type": "code",
   "execution_count": 22,
   "metadata": {},
   "outputs": [
    {
     "data": {
      "text/plain": [
       "31.48"
      ]
     },
     "execution_count": 22,
     "metadata": {},
     "output_type": "execute_result"
    }
   ],
   "source": [
    "sum(amostra)/len(amostra)  #Média da amostra é 31,48."
   ]
  },
  {
   "cell_type": "code",
   "execution_count": 23,
   "metadata": {},
   "outputs": [],
   "source": [
    "from scipy.stats import ttest_1samp"
   ]
  },
  {
   "cell_type": "markdown",
   "metadata": {},
   "source": [
    "* Hipótese Nula: Média = 30\n",
    "* Hipótese Alternativa: Média <> 30 (teste bicaudal)"
   ]
  },
  {
   "cell_type": "code",
   "execution_count": 24,
   "metadata": {},
   "outputs": [],
   "source": [
    "tset, pval = ttest_1samp(amostra, 30)"
   ]
  },
  {
   "cell_type": "markdown",
   "metadata": {},
   "source": [
    "* Com o p-valor < 0.05, decide-se rejeitar a hipotese nula, ou seja, a média é diferente de 30"
   ]
  },
  {
   "cell_type": "code",
   "execution_count": 25,
   "metadata": {},
   "outputs": [
    {
     "name": "stdout",
     "output_type": "stream",
     "text": [
      "2.45397516998387\n",
      "0.02176629712844284\n"
     ]
    }
   ],
   "source": [
    "print(tset)\n",
    "print(pval)"
   ]
  },
  {
   "cell_type": "code",
   "execution_count": 26,
   "metadata": {},
   "outputs": [],
   "source": [
    "amostra = [30,26,30,30,31,28,30,31,33,31,31,32,32,33,31,27,33,27,31,30,26,38,31,31,30]"
   ]
  },
  {
   "cell_type": "code",
   "execution_count": 27,
   "metadata": {},
   "outputs": [
    {
     "data": {
      "text/plain": [
       "30.52"
      ]
     },
     "execution_count": 27,
     "metadata": {},
     "output_type": "execute_result"
    }
   ],
   "source": [
    "sum(amostra)/len(amostra)  #Média da amostra é 30,52."
   ]
  },
  {
   "cell_type": "code",
   "execution_count": 28,
   "metadata": {},
   "outputs": [],
   "source": [
    "tset, pval = ttest_1samp(amostra, 30)"
   ]
  },
  {
   "cell_type": "markdown",
   "metadata": {},
   "source": [
    "* Com o p-value > 0,05, decide-se não rejeitar a hipotese nula, ou seja, a média é igual a 30"
   ]
  },
  {
   "cell_type": "code",
   "execution_count": 29,
   "metadata": {},
   "outputs": [
    {
     "name": "stdout",
     "output_type": "stream",
     "text": [
      "1.0256057819245223\n",
      "0.3153041933128938\n"
     ]
    }
   ],
   "source": [
    "print(tset)\n",
    "print(pval)"
   ]
  },
  {
   "cell_type": "markdown",
   "metadata": {},
   "source": [
    "* Intervalo de Confiança da Média"
   ]
  },
  {
   "cell_type": "code",
   "execution_count": 30,
   "metadata": {},
   "outputs": [],
   "source": [
    "amostra = [32,28,34,32,31,28,30,31,39,31,33,32,32,33,31,27,33,27,31,30,26,38,33,33,32]"
   ]
  },
  {
   "cell_type": "code",
   "execution_count": 31,
   "metadata": {},
   "outputs": [],
   "source": [
    "raiz_n = math.sqrt(len(amostra))\n",
    "media_amostral = sum(amostra)/len(amostra)\n",
    "desv_pad_amostral = st.stdev(amostra)\n",
    "T_y = stats.t.ppf(0.975, (len(amostra)-1)) #Valor de t para intervalo de confiança com 95% - bicaudal, \n",
    "# destacando o n-1 graus de liberdade"
   ]
  },
  {
   "cell_type": "code",
   "execution_count": 32,
   "metadata": {},
   "outputs": [],
   "source": [
    "Limite_inferior = media_amostral - (T_y*(desv_pad_amostral/raiz_n))\n",
    "Limite_superior = media_amostral + (T_y*(desv_pad_amostral/raiz_n))"
   ]
  },
  {
   "cell_type": "code",
   "execution_count": 33,
   "metadata": {},
   "outputs": [
    {
     "name": "stdout",
     "output_type": "stream",
     "text": [
      "30.235256406596182\n",
      "32.72474359340382\n"
     ]
    }
   ],
   "source": [
    "print(Limite_inferior)\n",
    "print(Limite_superior)"
   ]
  },
  {
   "cell_type": "code",
   "execution_count": null,
   "metadata": {},
   "outputs": [],
   "source": []
  },
  {
   "cell_type": "markdown",
   "metadata": {},
   "source": [
    "# Binomial"
   ]
  },
  {
   "cell_type": "markdown",
   "metadata": {},
   "source": [
    "* Aplicado nos casos em que a variável de interesse é dicotômica\n",
    "    * Testa-se a proporção de determinado acontecimento"
   ]
  },
  {
   "cell_type": "markdown",
   "metadata": {},
   "source": [
    "* Pequenas Amostras N<25"
   ]
  },
  {
   "cell_type": "code",
   "execution_count": 34,
   "metadata": {},
   "outputs": [],
   "source": [
    "df = pd.DataFrame(np.array(['A', 'A', 'A','B','A','A','B','A','B','B','A','B','A','A','A']),\n",
    "                   columns=['X']) #amostra do evento com dois resultados possiveis: A e B"
   ]
  },
  {
   "cell_type": "code",
   "execution_count": 35,
   "metadata": {},
   "outputs": [
    {
     "data": {
      "text/html": [
       "<div>\n",
       "<style scoped>\n",
       "    .dataframe tbody tr th:only-of-type {\n",
       "        vertical-align: middle;\n",
       "    }\n",
       "\n",
       "    .dataframe tbody tr th {\n",
       "        vertical-align: top;\n",
       "    }\n",
       "\n",
       "    .dataframe thead th {\n",
       "        text-align: right;\n",
       "    }\n",
       "</style>\n",
       "<table border=\"1\" class=\"dataframe\">\n",
       "  <thead>\n",
       "    <tr style=\"text-align: right;\">\n",
       "      <th></th>\n",
       "      <th>X</th>\n",
       "    </tr>\n",
       "  </thead>\n",
       "  <tbody>\n",
       "    <tr>\n",
       "      <th>0</th>\n",
       "      <td>A</td>\n",
       "    </tr>\n",
       "    <tr>\n",
       "      <th>1</th>\n",
       "      <td>A</td>\n",
       "    </tr>\n",
       "    <tr>\n",
       "      <th>2</th>\n",
       "      <td>A</td>\n",
       "    </tr>\n",
       "    <tr>\n",
       "      <th>3</th>\n",
       "      <td>B</td>\n",
       "    </tr>\n",
       "    <tr>\n",
       "      <th>4</th>\n",
       "      <td>A</td>\n",
       "    </tr>\n",
       "  </tbody>\n",
       "</table>\n",
       "</div>"
      ],
      "text/plain": [
       "   X\n",
       "0  A\n",
       "1  A\n",
       "2  A\n",
       "3  B\n",
       "4  A"
      ]
     },
     "execution_count": 35,
     "metadata": {},
     "output_type": "execute_result"
    }
   ],
   "source": [
    "df.head()"
   ]
  },
  {
   "cell_type": "code",
   "execution_count": 36,
   "metadata": {},
   "outputs": [
    {
     "name": "stdout",
     "output_type": "stream",
     "text": [
      "15\n",
      "A    10\n",
      "B     5\n",
      "Name: X, dtype: int64\n",
      "A    0.666667\n",
      "B    0.333333\n",
      "Name: X, dtype: float64\n"
     ]
    }
   ],
   "source": [
    "print(len(df['X'])) #tamanho da amostra\n",
    "print(pd.value_counts(df['X'])) #contagem de cada acontecimento da amostra\n",
    "print((pd.value_counts(df['X'])/len(df))) #proporcao dos acontecimentos"
   ]
  },
  {
   "cell_type": "markdown",
   "metadata": {},
   "source": [
    "* Realiza-se o teste configurando:\n",
    "    * Numero de sucessos (evento de interesse) - 10\n",
    "    * Tamanho da amostra - 15\n",
    "    * Probabilidade da hipótese nula - 0.5\n",
    "    * Por padrão é um teste bicaudal, ou seja, a hipotese alternativa é que p é diferente de 0,5\n",
    "* Como p-value foi 0,30 (> 0.05), não rejeitamos a hipótese nula"
   ]
  },
  {
   "cell_type": "code",
   "execution_count": 37,
   "metadata": {},
   "outputs": [
    {
     "data": {
      "text/plain": [
       "0.30175781250000017"
      ]
     },
     "execution_count": 37,
     "metadata": {},
     "output_type": "execute_result"
    }
   ],
   "source": [
    "stats.binom_test(10, n=15, p=0.5)"
   ]
  },
  {
   "cell_type": "code",
   "execution_count": 38,
   "metadata": {},
   "outputs": [
    {
     "data": {
      "text/plain": [
       "0.00011322566246400012"
      ]
     },
     "execution_count": 38,
     "metadata": {},
     "output_type": "execute_result"
    }
   ],
   "source": [
    "stats.binom_test(10, n=15, p=0.2)\n",
    "# Considerando a hipotese nula: p= 0.2; rejeitamos esta, dado que p-valor < 0.05"
   ]
  },
  {
   "cell_type": "markdown",
   "metadata": {},
   "source": [
    "* Grandes amostras N>25"
   ]
  },
  {
   "cell_type": "code",
   "execution_count": 39,
   "metadata": {},
   "outputs": [],
   "source": [
    "df = pd.DataFrame(np.array(['A', 'A', 'A','B','A','A','B','A','B','B','A','A','A','A','A','A','A','A','A','A',\n",
    "                            'B','A','B','B','A','B','A','A','A','A', 'A', 'A','B','A','A','B','A','B','B','A','A','A','A']),\n",
    "                   columns=['X'])"
   ]
  },
  {
   "cell_type": "code",
   "execution_count": 40,
   "metadata": {},
   "outputs": [
    {
     "name": "stdout",
     "output_type": "stream",
     "text": [
      "43\n",
      "A    31\n",
      "B    12\n",
      "Name: X, dtype: int64\n",
      "A    0.72093\n",
      "B    0.27907\n",
      "Name: X, dtype: float64\n"
     ]
    }
   ],
   "source": [
    "print(len(df['X']))\n",
    "print(pd.value_counts(df['X']))\n",
    "print((pd.value_counts(df['X'])/len(df)))"
   ]
  },
  {
   "cell_type": "code",
   "execution_count": 41,
   "metadata": {},
   "outputs": [],
   "source": [
    "p = 1/2 # hipotese nula (queremos testar p = 0.5)\n",
    "p_ = 0.72 # proporcao do evento de interesse na amostra\n",
    "N = len(df['X'])"
   ]
  },
  {
   "cell_type": "code",
   "execution_count": 42,
   "metadata": {},
   "outputs": [],
   "source": [
    "Z = (abs((N*p_)-(N*p)) - 0.5)/math.sqrt(N*p*p) #calculo da estatistica por meio de uma aproximação de Z (Teste Z)"
   ]
  },
  {
   "cell_type": "code",
   "execution_count": 43,
   "metadata": {},
   "outputs": [
    {
     "data": {
      "text/plain": [
       "2.732774380360275"
      ]
     },
     "execution_count": 43,
     "metadata": {},
     "output_type": "execute_result"
    }
   ],
   "source": [
    "Z"
   ]
  },
  {
   "cell_type": "code",
   "execution_count": 44,
   "metadata": {},
   "outputs": [],
   "source": [
    "Z_limite = stats.norm.ppf(0.975) #Z critico considerando um teste bicaudal com 95% de confiança"
   ]
  },
  {
   "cell_type": "code",
   "execution_count": 45,
   "metadata": {},
   "outputs": [
    {
     "name": "stdout",
     "output_type": "stream",
     "text": [
      "Rejeita H0\n"
     ]
    }
   ],
   "source": [
    "if Z > Z_limite or Z < -Z_limite: #verifica se o Z calculado pertence a região critica\n",
    "    print('Rejeita H0')\n",
    "else:\n",
    "    print('Não Rejeita H0')"
   ]
  },
  {
   "cell_type": "code",
   "execution_count": null,
   "metadata": {},
   "outputs": [],
   "source": []
  },
  {
   "cell_type": "markdown",
   "metadata": {},
   "source": [
    "# Qui-quadrado"
   ]
  },
  {
   "cell_type": "markdown",
   "metadata": {},
   "source": [
    "* Extensão do teste binomial, em que o evento pode apresentar mais de dois acontecimentos (A,B,C....)"
   ]
  },
  {
   "cell_type": "code",
   "execution_count": 46,
   "metadata": {},
   "outputs": [],
   "source": [
    "df = pd.DataFrame(np.array(['A', 'A','C','B','C','C','B','A','B','B','A','C','A','A','A','C','A','A','A','A',\n",
    "                            'B','C','C','B','C','B','C','A','A','C','A','A','B','A','C','B','C','C','B','A','A','A','A']),\n",
    "                   columns=['X']) #exemplo de uma amostra do evento com acontecimentos A,B e C"
   ]
  },
  {
   "cell_type": "code",
   "execution_count": 47,
   "metadata": {},
   "outputs": [],
   "source": [
    "from scipy.stats import chisquare"
   ]
  },
  {
   "cell_type": "code",
   "execution_count": 48,
   "metadata": {},
   "outputs": [
    {
     "name": "stdout",
     "output_type": "stream",
     "text": [
      "A    20\n",
      "C    13\n",
      "B    10\n",
      "Name: X, dtype: int64\n",
      "A    0.465116\n",
      "C    0.302326\n",
      "B    0.232558\n",
      "Name: X, dtype: float64\n"
     ]
    }
   ],
   "source": [
    "print(pd.value_counts(df['X'])) #frequencia dos acontecimentos\n",
    "print((pd.value_counts(df['X'])/len(df))) #frequencia relativa dos acontecimentos"
   ]
  },
  {
   "cell_type": "markdown",
   "metadata": {},
   "source": [
    "* Por padrão, o teste calcula que os acontecimentos deveriam ter a mesma proporção (aproximadamente)\n",
    "    * Vai comparar as frequencias observadas (20/13/10) com a esperada (neste caso, aproximadamente:14/14/14)\n",
    "    * A hipotese nula é que não diferença significativa entre as frequencias observadas e esperadas\n",
    "* p-valor > 0.05, assim, não rejeita-se a hipótese nula, portanto, não há diferenças significativas com o esperado"
   ]
  },
  {
   "cell_type": "code",
   "execution_count": 49,
   "metadata": {},
   "outputs": [
    {
     "data": {
      "text/plain": [
       "Power_divergenceResult(statistic=3.674418604651163, pvalue=0.15926125653884585)"
      ]
     },
     "execution_count": 49,
     "metadata": {},
     "output_type": "execute_result"
    }
   ],
   "source": [
    "chisquare([20,13,10])"
   ]
  },
  {
   "cell_type": "markdown",
   "metadata": {},
   "source": [
    "* Ajustando as frequencias esperadas (10,20,13), teste vai comparar o observado 20/13/10 e esperado 10/20/13.\n",
    "    * p-valor < 0.05, assim, rejeita-se a hipótese nula, há diferenças significativas com o esperado"
   ]
  },
  {
   "cell_type": "code",
   "execution_count": 50,
   "metadata": {},
   "outputs": [
    {
     "data": {
      "text/plain": [
       "Power_divergenceResult(statistic=13.142307692307691, pvalue=0.0014001808863745757)"
      ]
     },
     "execution_count": 50,
     "metadata": {},
     "output_type": "execute_result"
    }
   ],
   "source": [
    "chisquare([20,13,10],f_exp=[10,20,13])"
   ]
  },
  {
   "cell_type": "code",
   "execution_count": null,
   "metadata": {},
   "outputs": [],
   "source": []
  }
 ],
 "metadata": {
  "kernelspec": {
   "display_name": "Python 3",
   "language": "python",
   "name": "python3"
  },
  "language_info": {
   "codemirror_mode": {
    "name": "ipython",
    "version": 3
   },
   "file_extension": ".py",
   "mimetype": "text/x-python",
   "name": "python",
   "nbconvert_exporter": "python",
   "pygments_lexer": "ipython3",
   "version": "3.7.1"
  }
 },
 "nbformat": 4,
 "nbformat_minor": 2
}
