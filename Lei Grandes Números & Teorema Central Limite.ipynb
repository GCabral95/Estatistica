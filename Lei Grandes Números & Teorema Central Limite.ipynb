{
 "cells": [
  {
   "cell_type": "markdown",
   "metadata": {},
   "source": [
    "# Lei dos Grandes Números\n",
    "* A média dos resultados de um experimento realizado repetidamente tende a se aproximar do valor esperado desta medida\n",
    "* A medida que cresce o número de tentativas independentes, a medida estudada se aproxima do valor real (uma constante)"
   ]
  },
  {
   "cell_type": "markdown",
   "metadata": {},
   "source": [
    "* Probabilidade de sair 3 em um dado"
   ]
  },
  {
   "cell_type": "code",
   "execution_count": 1,
   "metadata": {},
   "outputs": [],
   "source": [
    "import random\n",
    "import pandas as pd\n",
    "simulacao = pd.DataFrame(columns=['jogada','freq'])\n",
    "jogada = pd.DataFrame(columns=['valor'])\n",
    "for x in range (1,10001):\n",
    "    dado = random.randint(1, 6)\n",
    "    jogada = jogada.append({'valor':dado}, ignore_index=True)\n",
    "    tab_freq = (pd.value_counts(jogada['valor'])/len(jogada)).reset_index()\n",
    "    for index, row in tab_freq.iterrows():\n",
    "        if row['index'] == 3:\n",
    "            simulacao = simulacao.append({'jogada':x,'freq':row['valor']}, ignore_index=True)\n",
    "        else:\n",
    "            pass"
   ]
  },
  {
   "cell_type": "code",
   "execution_count": 10,
   "metadata": {},
   "outputs": [
    {
     "data": {
      "image/png": "[encoded data removed]",
      "text/plain": [
       "<Figure size 432x288 with 1 Axes>"
      ]
     },
     "metadata": {
      "needs_background": "light"
     },
     "output_type": "display_data"
    }
   ],
   "source": [
    "import seaborn as sns\n",
    "sns.lineplot(data=simulacao, x=\"jogada\", y=\"freq\")\n",
    "plt.grid()"
   ]
  },
  {
   "cell_type": "code",
   "execution_count": 3,
   "metadata": {},
   "outputs": [
    {
     "data": {
      "text/plain": [
       "0.16666666666666666"
      ]
     },
     "execution_count": 3,
     "metadata": {},
     "output_type": "execute_result"
    }
   ],
   "source": [
    "1/6"
   ]
  },
  {
   "cell_type": "markdown",
   "metadata": {},
   "source": [
    "# Aproximação Normal de uma Binomial"
   ]
  },
  {
   "cell_type": "markdown",
   "metadata": {},
   "source": [
    "* Uma binomial, por exemplo, com p = 0.2 e com n = 1200 repetições"
   ]
  },
  {
   "cell_type": "code",
   "execution_count": 4,
   "metadata": {},
   "outputs": [],
   "source": [
    "from scipy.stats import binom\n",
    "from scipy.stats import norm\n",
    "import numpy as np\n",
    "import matplotlib.pyplot as plt"
   ]
  },
  {
   "cell_type": "code",
   "execution_count": 14,
   "metadata": {},
   "outputs": [],
   "source": [
    "mean, var = binom.stats(225, 0.2)"
   ]
  },
  {
   "cell_type": "code",
   "execution_count": 17,
   "metadata": {},
   "outputs": [
    {
     "name": "stdout",
     "output_type": "stream",
     "text": [
      "45.0 36.0\n"
     ]
    }
   ],
   "source": [
    "print(mean,var)"
   ]
  },
  {
   "cell_type": "code",
   "execution_count": 21,
   "metadata": {},
   "outputs": [
    {
     "name": "stdout",
     "output_type": "stream",
     "text": [
      "0.34360667592149635\n",
      "0.3085375387259869\n"
     ]
    }
   ],
   "source": [
    "print(binom.cdf(k=42, n=225, p=0.2))\n",
    "print(norm.cdf(42, mean, var**(1/2)))"
   ]
  },
  {
   "cell_type": "code",
   "execution_count": 26,
   "metadata": {},
   "outputs": [
    {
     "name": "stdout",
     "output_type": "stream",
     "text": [
      "0.9790678998357445\n",
      "0.9772498680518208\n"
     ]
    }
   ],
   "source": [
    "print(binom.cdf(k=57, n=225, p=0.2))\n",
    "print(norm.cdf(57, mean, var**(1/2)))"
   ]
  },
  {
   "cell_type": "code",
   "execution_count": 57,
   "metadata": {},
   "outputs": [
    {
     "name": "stdout",
     "output_type": "stream",
     "text": [
      "0.6639901958194505\n",
      "0.6258349578786959\n"
     ]
    }
   ],
   "source": [
    "a = binom.cdf(k=52, n=225, p=0.2)\n",
    "b = binom.cdf(k=40, n=225, p=0.2)\n",
    "print(a-b)\n",
    "a = norm.cdf(52, mean, var**(1/2))\n",
    "b = norm.cdf(41, mean, var**(1/2))\n",
    "print(a-b)"
   ]
  },
  {
   "cell_type": "markdown",
   "metadata": {},
   "source": [
    "# Teorema do Limite Central"
   ]
  },
  {
   "cell_type": "code",
   "execution_count": 85,
   "metadata": {},
   "outputs": [],
   "source": [
    "import random\n",
    "pop = []\n",
    "for i in range(0,1500):\n",
    "    n = random.randint(-60,60)\n",
    "    pop.append(n)"
   ]
  },
  {
   "cell_type": "code",
   "execution_count": 86,
   "metadata": {},
   "outputs": [
    {
     "data": {
      "image/png": "[encoded data removed]",
      "text/plain": [
       "<Figure size 432x288 with 1 Axes>"
      ]
     },
     "metadata": {
      "needs_background": "light"
     },
     "output_type": "display_data"
    }
   ],
   "source": [
    "plt.hist(pop)\n",
    "plt.show()"
   ]
  },
  {
   "cell_type": "code",
   "execution_count": 87,
   "metadata": {},
   "outputs": [
    {
     "data": {
      "text/plain": [
       "-1.4486666666666668"
      ]
     },
     "execution_count": 87,
     "metadata": {},
     "output_type": "execute_result"
    }
   ],
   "source": [
    "sum(pop)/len(pop)"
   ]
  },
  {
   "cell_type": "code",
   "execution_count": 97,
   "metadata": {},
   "outputs": [],
   "source": [
    "medias = []\n",
    "for x in range(0,500):\n",
    "    amostra = random.sample(pop, 40)\n",
    "    media = sum(amostra)/len(amostra)\n",
    "    medias.append(media)"
   ]
  },
  {
   "cell_type": "code",
   "execution_count": 98,
   "metadata": {},
   "outputs": [
    {
     "data": {
      "image/png": "[encoded data removed]",
      "text/plain": [
       "<Figure size 432x288 with 1 Axes>"
      ]
     },
     "metadata": {
      "needs_background": "light"
     },
     "output_type": "display_data"
    }
   ],
   "source": [
    "plt.hist(medias)\n",
    "plt.axvline(x=-1.4486666666666668, color = \"r\")\n",
    "plt.show()"
   ]
  },
  {
   "cell_type": "code",
   "execution_count": 99,
   "metadata": {},
   "outputs": [],
   "source": [
    "medias = []\n",
    "for x in range(0,500):\n",
    "    amostra = random.sample(pop, 200)\n",
    "    media = sum(amostra)/len(amostra)\n",
    "    medias.append(media)"
   ]
  },
  {
   "cell_type": "code",
   "execution_count": 96,
   "metadata": {},
   "outputs": [
    {
     "data": {
      "image/png": "[encoded data removed]",
      "text/plain": [
       "<Figure size 432x288 with 1 Axes>"
      ]
     },
     "metadata": {
      "needs_background": "light"
     },
     "output_type": "display_data"
    }
   ],
   "source": [
    "plt.hist(medias)\n",
    "plt.axvline(x=-1.4486666666666668, color = \"r\")\n",
    "plt.show()"
   ]
  },
  {
   "cell_type": "code",
   "execution_count": null,
   "metadata": {},
   "outputs": [],
   "source": []
  }
 ],
 "metadata": {
  "kernelspec": {
   "display_name": "Python 3",
   "language": "python",
   "name": "python3"
  },
  "language_info": {
   "codemirror_mode": {
    "name": "ipython",
    "version": 3
   },
   "file_extension": ".py",
   "mimetype": "text/x-python",
   "name": "python",
   "nbconvert_exporter": "python",
   "pygments_lexer": "ipython3",
   "version": "3.7.1"
  }
 },
 "nbformat": 4,
 "nbformat_minor": 4
}
