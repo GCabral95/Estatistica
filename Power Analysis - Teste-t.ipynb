{
 "cells": [
  {
   "cell_type": "markdown",
   "id": "6329af72",
   "metadata": {},
   "source": [
    "# Duas amostras independentes"
   ]
  },
  {
   "cell_type": "markdown",
   "id": "b5073d8c",
   "metadata": {},
   "source": [
    "### Calculando o tamanho do efeito minimo capturavel"
   ]
  },
  {
   "cell_type": "code",
   "execution_count": 4,
   "id": "d9e88005",
   "metadata": {},
   "outputs": [],
   "source": [
    "from statsmodels.stats.power import TTestIndPower"
   ]
  },
  {
   "cell_type": "code",
   "execution_count": 16,
   "id": "04899173",
   "metadata": {},
   "outputs": [
    {
     "name": "stdout",
     "output_type": "stream",
     "text": [
      "0.17735842307242328\n"
     ]
    }
   ],
   "source": [
    "teste = TTestIndPower()\n",
    "n_required = teste.solve_power(effect_size=None, nobs1=500, alpha=0.05, power=0.8, ratio=1.0, alternative='two-sided')\n",
    "print(n_required)"
   ]
  },
  {
   "cell_type": "markdown",
   "id": "972521b9",
   "metadata": {},
   "source": [
    "### Calculando o tamanho da amostra"
   ]
  },
  {
   "cell_type": "code",
   "execution_count": 34,
   "id": "c69cf6ac",
   "metadata": {},
   "outputs": [
    {
     "name": "stdout",
     "output_type": "stream",
     "text": [
      "393.4056989990351\n"
     ]
    }
   ],
   "source": [
    "teste = TTestIndPower()\n",
    "n_required = teste.solve_power(effect_size=0.2, nobs1=None, alpha=0.05, power=0.8, ratio=1.0, alternative='two-sided')\n",
    "print(n_required)"
   ]
  },
  {
   "cell_type": "markdown",
   "id": "221a0273",
   "metadata": {},
   "source": [
    "### Calculando o poder do teste"
   ]
  },
  {
   "cell_type": "code",
   "execution_count": 42,
   "id": "e7b40d0b",
   "metadata": {},
   "outputs": [
    {
     "name": "stdout",
     "output_type": "stream",
     "text": [
      "0.7021764050716568\n"
     ]
    }
   ],
   "source": [
    "teste = TTestIndPower()\n",
    "n_required = teste.solve_power(effect_size=0.2, nobs1=350, alpha=0.05, power=None, ratio=1.0, alternative='two-sided')\n",
    "print(n_required)"
   ]
  },
  {
   "cell_type": "markdown",
   "id": "d5e4e6d5",
   "metadata": {},
   "source": [
    "# Duas amostras pareadas ou 01 amostra"
   ]
  },
  {
   "cell_type": "markdown",
   "id": "b887a1c2",
   "metadata": {},
   "source": [
    "### Calculando o tamanho do efeito minimo capturavel"
   ]
  },
  {
   "cell_type": "code",
   "execution_count": 28,
   "id": "985d3e44",
   "metadata": {},
   "outputs": [],
   "source": [
    "from statsmodels.stats.power import TTestPower"
   ]
  },
  {
   "cell_type": "code",
   "execution_count": 38,
   "id": "5a1b8580",
   "metadata": {},
   "outputs": [
    {
     "name": "stdout",
     "output_type": "stream",
     "text": [
      "0.12553231982433263\n"
     ]
    }
   ],
   "source": [
    "teste = TTestPower()\n",
    "n_required = teste.solve_power(effect_size=None, nobs=500, alpha=0.05, power=0.8, alternative='two-sided')\n",
    "print(n_required)"
   ]
  },
  {
   "cell_type": "markdown",
   "id": "a830daed",
   "metadata": {},
   "source": [
    "### Calculando o tamanho da amostra"
   ]
  },
  {
   "cell_type": "code",
   "execution_count": 41,
   "id": "2072c6c8",
   "metadata": {},
   "outputs": [
    {
     "name": "stdout",
     "output_type": "stream",
     "text": [
      "198.15082433942115\n"
     ]
    }
   ],
   "source": [
    "teste = TTestPower()\n",
    "n_required = teste.solve_power(effect_size= 0.2, nobs=None, alpha=0.05, power=0.8, alternative='two-sided')\n",
    "print(n_required)"
   ]
  },
  {
   "cell_type": "markdown",
   "id": "80d01c77",
   "metadata": {},
   "source": [
    "### Calculando o poder do teste"
   ]
  },
  {
   "cell_type": "code",
   "execution_count": 43,
   "id": "9a76a247",
   "metadata": {},
   "outputs": [
    {
     "name": "stdout",
     "output_type": "stream",
     "text": [
      "0.961751031424706\n"
     ]
    }
   ],
   "source": [
    "teste = TTestPower()\n",
    "n_required = teste.solve_power(effect_size=0.2, nobs=350, alpha=0.05, power=None, alternative='two-sided')\n",
    "print(n_required)"
   ]
  },
  {
   "cell_type": "code",
   "execution_count": null,
   "id": "97d05b5a",
   "metadata": {},
   "outputs": [],
   "source": []
  }
 ],
 "metadata": {
  "kernelspec": {
   "display_name": "Python 3 (ipykernel)",
   "language": "python",
   "name": "python3"
  },
  "language_info": {
   "codemirror_mode": {
    "name": "ipython",
    "version": 3
   },
   "file_extension": ".py",
   "mimetype": "text/x-python",
   "name": "python",
   "nbconvert_exporter": "python",
   "pygments_lexer": "ipython3",
   "version": "3.11.0"
  }
 },
 "nbformat": 4,
 "nbformat_minor": 5
}
